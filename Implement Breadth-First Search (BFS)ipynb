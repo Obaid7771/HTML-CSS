{
  "nbformat": 4,
  "nbformat_minor": 0,
  "metadata": {
    "colab": {
      "provenance": [],
      "authorship_tag": "ABX9TyPpz9v1ydlvHbFi2QX0MxD7",
      "include_colab_link": true
    },
    "kernelspec": {
      "name": "python3",
      "display_name": "Python 3"
    },
    "language_info": {
      "name": "python"
    }
  },
  "cells": [
    {
      "cell_type": "markdown",
      "metadata": {
        "id": "view-in-github",
        "colab_type": "text"
      },
      "source": [
        "<a href=\"https://colab.research.google.com/github/Obaid7771/HTML-CSS/blob/main/Implement%20Breadth-First%20Search%20(BFS)ipynb\" target=\"_parent\"><img src=\"https://colab.research.google.com/assets/colab-badge.svg\" alt=\"Open In Colab\"/></a>"
      ]
    },
    {
      "cell_type": "code",
      "execution_count": 7,
      "metadata": {
        "id": "MULLqLiATTFu"
      },
      "outputs": [],
      "source": [
        "# graph of cities in pak\n",
        "pakistan_cities = {\n",
        "    'karachi': ['hyderabad','quetta'],\n",
        "    'hyderabad': ['karachi','sukkur','multan'],\n",
        "    'quetta': ['karachi','sukkur'],\n",
        "    'sukkur': ['hyderabad','quetta','multan','islamabad'],\n",
        "    'multan': ['hyderabad','sukkur','lahore'],\n",
        "    'islamabad':['sukkur','lahore','peshawar'],\n",
        "    'lahore':['multan','islamabad','faisalabad'],\n",
        "    'faisalabad':['lahore'],\n",
        "    'peshawar':['islamabad'],\n",
        "}\n",
        "\n",
        "def bfs(graph,start,goal):\n",
        "  # queue for bsf\n",
        "\n",
        "  queue = deque([(start,[start])]) # (current_node,path)\n",
        "  visited = set() # to keep the track of visited nodes\n",
        "\n",
        "  while queue:\n",
        "    current,path = queue.popleft() # dequeue the front node\n",
        "    if current == goal:\n",
        "      return path # return the path if goal is reached\n",
        "\n",
        "      if current not in visited:\n",
        "        visited.add(current) # mark the node as visited\n",
        "\n",
        "        #enqueue all unvisited neighbours\n",
        "        for neighhbor in graph[current]:\n",
        "          if neighbor not in visited:\n",
        "            queue.append((neighbor,path + [neighbor ]))\n",
        "\n",
        "            return None # if no path is found\n",
        "\n",
        "            # test bfs\n",
        "            start_sity ='karachi'\n",
        "            goal_city = 'lahore'\n",
        "            bfs_path = bfs(pakistan_cities,start_city,goal_city)\n",
        "            print(\"bfs path from {start_city} to {goal_city}:{bfs_path}\")"
      ]
    },
    {
      "cell_type": "markdown",
      "source": [],
      "metadata": {
        "id": "YVpCQ3ojYSYU"
      }
    },
    {
      "cell_type": "code",
      "source": [
        "# graph of cities in pak\n",
        "pakistan_cities = {\n",
        "    'karachi': ['hyderabad','quetta'],\n",
        "    'hyderabad': ['karachi','sukkur','multan'],\n",
        "    'quetta': ['karachi','sukkur'],\n",
        "    'sukkur': ['hyderabad','quetta','multan','islamabad'],\n",
        "    'multan': ['hyderabad','sukkur','lahore'],\n",
        "    'islamabad':['sukkur','lahore','peshawar'],\n",
        "    'lahore':['multan','islamabad','faisalabad'],\n",
        "    'faisalabad':['lahore'],\n",
        "    'peshawar':['islamabad'],\n",
        "}\n",
        "\n",
        "def bfs(graph,start,goal):\n",
        "  # queue for bsf\n",
        "\n",
        "  queue = deque([(start,[start])]) # (current_node,path)\n",
        "  visited = set() # to keep the track of visited nodes\n",
        "\n",
        "  while queue:\n",
        "    current,path = queue.popleft() # dequeue the front node\n",
        "    if current == goal:\n",
        "      return path # return the path if goal is reached\n",
        "\n",
        "      if current not in visited:\n",
        "        visited.add(current) # mark the node as visited\n",
        "\n",
        "        #enqueue all unvisited neighbours\n",
        "        for neighhbor in graph[current]:\n",
        "          if neighbor not in visited:\n",
        "            queue.append((neighbor,path + [neighbor ]))\n",
        "\n",
        "            return None # if no path is found\n",
        "\n",
        "            # test bfs\n",
        "            start_sity ='karachi'\n",
        "            goal_city = 'lahore'\n",
        "            bfs_path = bfs(pakistan_cities,start_city,goal_city)\n",
        "            print(\"bfs path from {start_city} to {goal_city}:{bfs_path}\")"
      ],
      "metadata": {
        "id": "KrJpCLPoaiPb"
      },
      "execution_count": 8,
      "outputs": []
    }
  ]
}