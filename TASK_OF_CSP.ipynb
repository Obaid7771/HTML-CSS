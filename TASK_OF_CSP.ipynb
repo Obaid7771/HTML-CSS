{
  "nbformat": 4,
  "nbformat_minor": 0,
  "metadata": {
    "colab": {
      "provenance": [],
      "authorship_tag": "ABX9TyOAHt8mo7bJnJT0ABicCRzB",
      "include_colab_link": true
    },
    "kernelspec": {
      "name": "python3",
      "display_name": "Python 3"
    },
    "language_info": {
      "name": "python"
    }
  },
  "cells": [
    {
      "cell_type": "markdown",
      "metadata": {
        "id": "view-in-github",
        "colab_type": "text"
      },
      "source": [
        "<a href=\"https://colab.research.google.com/github/Obaid7771/HTML-CSS/blob/main/TASK_OF_CSP.ipynb\" target=\"_parent\"><img src=\"https://colab.research.google.com/assets/colab-badge.svg\" alt=\"Open In Colab\"/></a>"
      ]
    },
    {
      "cell_type": "code",
      "execution_count": 4,
      "metadata": {
        "colab": {
          "base_uri": "https://localhost:8080/"
        },
        "id": "lktoiPqMH4f0",
        "outputId": "5453d127-06bf-4fa2-b2bd-951e12b4ef1e"
      },
      "outputs": [
        {
          "output_type": "stream",
          "name": "stdout",
          "text": [
            "Australian Map Coloring Solution:\n",
            "TAS: R\n",
            "WA: R\n",
            "VIC: R\n",
            "NT: G\n",
            "QLD: R\n",
            "NSW: G\n",
            "SA: B\n",
            "\n",
            "Verifying constraints:\n",
            "All constraints satisfied - valid solution!\n"
          ]
        }
      ],
      "source": [
        "class AustralianMapColoring:\n",
        "    def __init__(self):\n",
        "        # Define the regions and their adjacent regions\n",
        "        self.regions = ['WA', 'NT', 'SA', 'QLD', 'NSW', 'VIC', 'TAS']\n",
        "        self.adjacent = {\n",
        "            'WA': ['NT', 'SA'],\n",
        "            'NT': ['WA', 'SA', 'QLD'],\n",
        "            'SA': ['WA', 'NT', 'QLD', 'NSW', 'VIC'],\n",
        "            'QLD': ['NT', 'SA', 'NSW'],\n",
        "            'NSW': ['SA', 'QLD', 'VIC'],\n",
        "            'VIC': ['SA', 'NSW'],\n",
        "            'TAS': []\n",
        "        }\n",
        "        self.colors = ['R', 'G', 'B']\n",
        "        self.solution = {}\n",
        "\n",
        "    def is_valid(self, region, color, assignment):\n",
        "        \"\"\"Check if assigning this color to the region is valid given current assignments\"\"\"\n",
        "        for neighbor in self.adjacent[region]:\n",
        "            if neighbor in assignment and assignment[neighbor] == color:\n",
        "                return False\n",
        "        return True\n",
        "\n",
        "    def backtracking_search(self, assignment={}):\n",
        "        \"\"\"Recursive backtracking algorithm to solve the CSP\"\"\"\n",
        "        # If all regions are assigned, return the solution\n",
        "        if len(assignment) == len(self.regions):\n",
        "            return assignment\n",
        "\n",
        "        # Select the next unassigned region (using Minimum Remaining Values heuristic)\n",
        "        unassigned = [r for r in self.regions if r not in assignment]\n",
        "        current_region = min(unassigned, key=lambda r: len(self.adjacent[r]))\n",
        "\n",
        "        # Try each color in order\n",
        "        for color in self.colors:\n",
        "            if self.is_valid(current_region, color, assignment):\n",
        "                assignment[current_region] = color\n",
        "                result = self.backtracking_search(assignment)\n",
        "                if result is not None:\n",
        "                    return result\n",
        "                del assignment[current_region]\n",
        "\n",
        "        return None\n",
        "\n",
        "    def solve(self):\n",
        "        \"\"\"Public method to solve the problem\"\"\"\n",
        "        self.solution = self.backtracking_search()\n",
        "        return self.solution\n",
        "\n",
        "    def print_solution(self):\n",
        "        \"\"\"Print the solution in a readable format\"\"\"\n",
        "        if not self.solution:\n",
        "            print(\"No solution found!\")\n",
        "            return\n",
        "\n",
        "        print(\"Australian Map Coloring Solution:\")\n",
        "        for region, color in self.solution.items():\n",
        "            print(f\"{region}: {color}\")\n",
        "\n",
        "        # Verify no adjacent regions have the same color\n",
        "        print(\"\\nVerifying constraints:\")\n",
        "        valid = True\n",
        "        for region in self.regions:\n",
        "            for neighbor in self.adjacent[region]:\n",
        "                if self.solution[region] == self.solution[neighbor]:\n",
        "                    print(f\"Conflict between {region} and {neighbor} (both {self.solution[region]})\")\n",
        "                    valid = False\n",
        "        if valid:\n",
        "            print(\"All constraints satisfied - valid solution!\")\n",
        "\n",
        "\n",
        "# Main execution\n",
        "if __name__ == \"__main__\":\n",
        "    australia_map = AustralianMapColoring()\n",
        "    solution = australia_map.solve()\n",
        "\n",
        "    if solution:\n",
        "        australia_map.print_solution()\n",
        "    else:\n",
        "        print(\"No valid coloring found with the given constraints.\")"
      ]
    }
  ]
}